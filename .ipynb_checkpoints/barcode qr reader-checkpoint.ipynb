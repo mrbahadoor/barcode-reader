{
 "cells": [
  {
   "cell_type": "markdown",
   "id": "81418c68",
   "metadata": {},
   "source": [
    "## Barcode / QR reader by inputing image file name"
   ]
  },
  {
   "cell_type": "markdown",
   "id": "c6b2e961",
   "metadata": {},
   "source": [
    "Install missing modules for barcode reading and decoding from python command line:\n",
    "pip install pyzbar\n",
    "pip install opencv-python"
   ]
  },
  {
   "cell_type": "code",
   "execution_count": 5,
   "id": "5b41d90d",
   "metadata": {},
   "outputs": [
    {
     "name": "stdout",
     "output_type": "stream",
     "text": [
      "barcode.png\n"
     ]
    }
   ],
   "source": [
    "# import os\n",
    "\n",
    "# name = input('Enter image with name with .extension (.jpg or .png): ')\n",
    "# print(name)\n",
    "\n",
    "\n",
    "# for subdir, dirs, files in os.walk('./barcode'):\n",
    "#     for file in files:\n",
    "#         print(file)"
   ]
  },
  {
   "cell_type": "code",
   "execution_count": null,
   "id": "9b56bd4c",
   "metadata": {},
   "outputs": [],
   "source": []
  }
 ],
 "metadata": {
  "kernelspec": {
   "display_name": "Python 3 (ipykernel)",
   "language": "python",
   "name": "python3"
  },
  "language_info": {
   "codemirror_mode": {
    "name": "ipython",
    "version": 3
   },
   "file_extension": ".py",
   "mimetype": "text/x-python",
   "name": "python",
   "nbconvert_exporter": "python",
   "pygments_lexer": "ipython3",
   "version": "3.10.9"
  }
 },
 "nbformat": 4,
 "nbformat_minor": 5
}
