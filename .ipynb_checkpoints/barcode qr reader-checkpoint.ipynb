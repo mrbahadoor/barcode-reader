{
 "cells": [
  {
   "cell_type": "markdown",
   "id": "81418c68",
   "metadata": {},
   "source": [
    "## Barcode / QR reader by inputing image file name"
   ]
  },
  {
   "cell_type": "markdown",
   "id": "c6b2e961",
   "metadata": {},
   "source": [
    "Install libraries for barcode reading and decoding from python command line:\n",
    "pip install pyzbar\n",
    "pip install opencv-python"
   ]
  },
  {
   "cell_type": "code",
   "execution_count": 6,
   "id": "5b41d90d",
   "metadata": {},
   "outputs": [
    {
     "name": "stdout",
     "output_type": "stream",
     "text": [
      "test\n"
     ]
    }
   ],
   "source": [
    "import os\n",
    "\n",
    "# name = input('Enter image with name with .extension (.jpg or .png): ')\n",
    "# # print(name)\n",
    "\n",
    "# dir_list = os.listdir('./')\n",
    "\n",
    "# if name in dir_list:\n",
    "#     print('file exist')\n",
    "# else:\n",
    "#     print('file not found')\n",
    "\n",
    "def testfunc():\n",
    "    print(\"test\")\n",
    "    \n",
    "testfunc()\n",
    "\n",
    "\n",
    "# for subdir, dirs, files in os.walk('./images'):\n",
    "#     for file in files:\n",
    "#         print(file)"
   ]
  },
  {
   "cell_type": "markdown",
   "id": "643d51a9",
   "metadata": {},
   "source": [
    "Install packages using !pip. The ! tells the notebook to execute the cell as a shell command."
   ]
  },
  {
   "cell_type": "code",
   "execution_count": null,
   "id": "c01bf826",
   "metadata": {},
   "outputs": [],
   "source": [
    "!pip install pyzbar\n",
    "!pip install opencv-python"
   ]
  },
  {
   "cell_type": "code",
   "execution_count": 5,
   "id": "9b56bd4c",
   "metadata": {},
   "outputs": [
    {
     "name": "stdout",
     "output_type": "stream",
     "text": [
      "Enter image with name with .extension (.jpg or .png): qr.jpg\n"
     ]
    },
    {
     "ename": "NameError",
     "evalue": "name 'readImageAndSaveToFile' is not defined",
     "output_type": "error",
     "traceback": [
      "\u001b[1;31m---------------------------------------------------------------------------\u001b[0m",
      "\u001b[1;31mNameError\u001b[0m                                 Traceback (most recent call last)",
      "Cell \u001b[1;32mIn[5], line 56\u001b[0m\n\u001b[0;32m     54\u001b[0m \u001b[38;5;28;01mif\u001b[39;00m name \u001b[38;5;129;01min\u001b[39;00m dir_list:\n\u001b[0;32m     55\u001b[0m     image_path \u001b[38;5;241m=\u001b[39m \u001b[38;5;124m'\u001b[39m\u001b[38;5;124m./\u001b[39m\u001b[38;5;124m'\u001b[39m \u001b[38;5;241m+\u001b[39m name\n\u001b[1;32m---> 56\u001b[0m     \u001b[43mreadImageAndSaveToFile\u001b[49m(image_path)\n\u001b[0;32m     57\u001b[0m \u001b[38;5;28;01melse\u001b[39;00m:\n\u001b[0;32m     58\u001b[0m     \u001b[38;5;28mprint\u001b[39m(\u001b[38;5;124m'\u001b[39m\u001b[38;5;124mfile not found\u001b[39m\u001b[38;5;124m'\u001b[39m)\n",
      "\u001b[1;31mNameError\u001b[0m: name 'readImageAndSaveToFile' is not defined"
     ]
    }
   ],
   "source": [
    "# Importing library\n",
    "import cv2 #Read image or video input\n",
    "from pyzbar.pyzbar import decode, ZBarSymbol #decode image content\n",
    "import os #library for file and folders\n",
    "\n",
    "def readImageAndSaveToFile(img_path):\n",
    "    # Read image\n",
    "    img = cv2.imread(img_path)\n",
    "\n",
    "    #ZBarSymbol is an enum\n",
    "\n",
    "    # for s in ZBarSymbol:\n",
    "    #     print(s.name)\n",
    "\n",
    "    # decoded result is a list, qr decode only works with .jpg image\n",
    "    decoded_img  = decode(img)\n",
    "\n",
    "    if len(decoded_img) > 0:\n",
    "        f = open(\"decoded_qr.txt\", \"a\") #Append data, creates file if not exist\n",
    "        #write current image \n",
    "        f.write(image_path+\"\\n\")\n",
    "\n",
    "        for d in decoded_img:\n",
    "\n",
    "            #write image barcode type\n",
    "            f.write(\"type: \"+d.type+\"\\n\")\n",
    "\n",
    "            #write barcode data\n",
    "            byte_string = d.data; #Data is in type bytes\n",
    "            decoded_string = byte_string.decode(\"utf-8\")\n",
    "\n",
    "            f.write(\"data: \"+decoded_string+\"\\n\")\n",
    "\n",
    "            #Add a seperator\n",
    "            for i in range(30):\n",
    "                f.write(\"-\")\n",
    "\n",
    "            #Add a new line for new barcode\n",
    "            f.write(\"\\n\")\n",
    "\n",
    "        f.close()\n",
    "        print(\"Data saved to file\")\n",
    "\n",
    "    else:\n",
    "        print(\"Image is not a valid barcode\")\n",
    "        \n",
    "# Input filename and check if it exists, then process it\n",
    "\n",
    "name = input('Enter image with name with .extension (.jpg or .png): ')\n",
    "# print(name)\n",
    "\n",
    "dir_list = os.listdir('./')\n",
    "\n",
    "if name in dir_list:\n",
    "    image_path = './' + name\n",
    "    readImageAndSaveToFile(image_path)\n",
    "else:\n",
    "    print('file not found')\n"
   ]
  },
  {
   "cell_type": "code",
   "execution_count": null,
   "id": "71e3c6d5",
   "metadata": {},
   "outputs": [],
   "source": []
  }
 ],
 "metadata": {
  "kernelspec": {
   "display_name": "Python 3 (ipykernel)",
   "language": "python",
   "name": "python3"
  },
  "language_info": {
   "codemirror_mode": {
    "name": "ipython",
    "version": 3
   },
   "file_extension": ".py",
   "mimetype": "text/x-python",
   "name": "python",
   "nbconvert_exporter": "python",
   "pygments_lexer": "ipython3",
   "version": "3.10.9"
  }
 },
 "nbformat": 4,
 "nbformat_minor": 5
}
