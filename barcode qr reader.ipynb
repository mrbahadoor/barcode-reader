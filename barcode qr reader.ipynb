{
 "cells": [
  {
   "cell_type": "markdown",
   "id": "81418c68",
   "metadata": {},
   "source": [
    "## Barcode / QR reader by inputing image file name"
   ]
  },
  {
   "cell_type": "markdown",
   "id": "c6b2e961",
   "metadata": {},
   "source": [
    "Install libraries for barcode reading and decoding from python command line:\n",
    "pip install pyzbar\n",
    "pip install opencv-python"
   ]
  },
  {
   "cell_type": "code",
   "execution_count": 66,
   "id": "5b41d90d",
   "metadata": {},
   "outputs": [],
   "source": [
    "# import os\n",
    "\n",
    "# name = input('Enter image with name with .extension (.jpg or .png): ')\n",
    "# print(name)\n",
    "\n",
    "\n",
    "# for subdir, dirs, files in os.walk('./images'):\n",
    "#     for file in files:\n",
    "#         print(file)"
   ]
  },
  {
   "cell_type": "code",
   "execution_count": 65,
   "id": "9b56bd4c",
   "metadata": {},
   "outputs": [
    {
     "name": "stdout",
     "output_type": "stream",
     "text": [
      "Data saved to file\n"
     ]
    }
   ],
   "source": [
    "# Importing library\n",
    "import cv2 #Read image or video input\n",
    "from pyzbar.pyzbar import decode, ZBarSymbol\n",
    "\n",
    "image_path ='./images/qr.jpg' \n",
    "\n",
    "# Read image\n",
    "img = cv2.imread(image_path)\n",
    "\n",
    "#ZBarSymbol is an enum\n",
    "\n",
    "# for s in ZBarSymbol:\n",
    "#     print(s.name)\n",
    "\n",
    "# decoded result is a list, qr decode only works with .jpg image\n",
    "decoded_img  = decode(img)\n",
    "\n",
    "if len(decoded_img) > 0:\n",
    "    f = open(\"decoded_qr.txt\", \"a\") #Append data, creates file if not exist\n",
    "    #write current image \n",
    "    f.write(image_path+\"\\n\")\n",
    "\n",
    "    for d in decoded_img:\n",
    "\n",
    "        #write image barcode type\n",
    "        f.write(\"type: \"+d.type+\"\\n\")\n",
    "        \n",
    "        #write barcode data\n",
    "        byte_string = d.data; #Data is in type bytes\n",
    "        decoded_string = byte_string.decode(\"utf-8\")\n",
    "\n",
    "        f.write(\"data: \"+decoded_string+\"\\n\")\n",
    "        \n",
    "        #Add a seperator\n",
    "        for i in range(30):\n",
    "            f.write(\"-\")\n",
    "\n",
    "        #Add a new line for new barcode\n",
    "        f.write(\"\\n\")\n",
    "    \n",
    "    f.close()\n",
    "    print(\"Data saved to file\")\n",
    "    \n",
    "else:\n",
    "    print(\"Image is not a valid barcode\")\n"
   ]
  },
  {
   "cell_type": "code",
   "execution_count": null,
   "id": "2f4c1718",
   "metadata": {},
   "outputs": [],
   "source": []
  }
 ],
 "metadata": {
  "kernelspec": {
   "display_name": "Python 3 (ipykernel)",
   "language": "python",
   "name": "python3"
  },
  "language_info": {
   "codemirror_mode": {
    "name": "ipython",
    "version": 3
   },
   "file_extension": ".py",
   "mimetype": "text/x-python",
   "name": "python",
   "nbconvert_exporter": "python",
   "pygments_lexer": "ipython3",
   "version": "3.11.1"
  }
 },
 "nbformat": 4,
 "nbformat_minor": 5
}
